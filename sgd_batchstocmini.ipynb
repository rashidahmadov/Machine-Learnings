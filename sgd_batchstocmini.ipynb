{
  "nbformat": 4,
  "nbformat_minor": 0,
  "metadata": {
    "colab": {
      "provenance": []
    },
    "kernelspec": {
      "name": "python3",
      "display_name": "Python 3"
    },
    "language_info": {
      "name": "python"
    }
  },
  "cells": [
    {
      "cell_type": "code",
      "execution_count": null,
      "metadata": {
        "id": "Bkj4CwA291c8"
      },
      "outputs": [],
      "source": [
        "import pandas as pd\n",
        "import numpy as np\n",
        "import matplotlib.pyplot as plt"
      ]
    },
    {
      "cell_type": "code",
      "source": [
        "np.random.seed(42)\n",
        "m = 100\n",
        "X = 2*np.random.rand(m, 1)\n",
        "y = 4+ 2*X + np.random.randn(m, 1)"
      ],
      "metadata": {
        "id": "jHh0iOCO-oWt"
      },
      "execution_count": null,
      "outputs": []
    },
    {
      "cell_type": "code",
      "source": [
        "X"
      ],
      "metadata": {
        "colab": {
          "base_uri": "https://localhost:8080/"
        },
        "id": "5FqpRN-_-wH9",
        "outputId": "b6ab705d-3fff-413a-b9a2-d693db30ed95"
      },
      "execution_count": null,
      "outputs": [
        {
          "output_type": "execute_result",
          "data": {
            "text/plain": [
              "array([[0.74908024],\n",
              "       [1.90142861],\n",
              "       [1.46398788],\n",
              "       [1.19731697],\n",
              "       [0.31203728],\n",
              "       [0.31198904],\n",
              "       [0.11616722],\n",
              "       [1.73235229],\n",
              "       [1.20223002],\n",
              "       [1.41614516],\n",
              "       [0.04116899],\n",
              "       [1.9398197 ],\n",
              "       [1.66488528],\n",
              "       [0.42467822],\n",
              "       [0.36364993],\n",
              "       [0.36680902],\n",
              "       [0.60848449],\n",
              "       [1.04951286],\n",
              "       [0.86389004],\n",
              "       [0.58245828],\n",
              "       [1.22370579],\n",
              "       [0.27898772],\n",
              "       [0.5842893 ],\n",
              "       [0.73272369],\n",
              "       [0.91213997],\n",
              "       [1.57035192],\n",
              "       [0.39934756],\n",
              "       [1.02846888],\n",
              "       [1.18482914],\n",
              "       [0.09290083],\n",
              "       [1.2150897 ],\n",
              "       [0.34104825],\n",
              "       [0.13010319],\n",
              "       [1.89777107],\n",
              "       [1.93126407],\n",
              "       [1.6167947 ],\n",
              "       [0.60922754],\n",
              "       [0.19534423],\n",
              "       [1.36846605],\n",
              "       [0.88030499],\n",
              "       [0.24407647],\n",
              "       [0.99035382],\n",
              "       [0.06877704],\n",
              "       [1.8186408 ],\n",
              "       [0.51755996],\n",
              "       [1.32504457],\n",
              "       [0.62342215],\n",
              "       [1.04013604],\n",
              "       [1.09342056],\n",
              "       [0.36970891],\n",
              "       [1.93916926],\n",
              "       [1.55026565],\n",
              "       [1.87899788],\n",
              "       [1.7896547 ],\n",
              "       [1.19579996],\n",
              "       [1.84374847],\n",
              "       [0.176985  ],\n",
              "       [0.39196572],\n",
              "       [0.09045458],\n",
              "       [0.65066066],\n",
              "       [0.77735458],\n",
              "       [0.54269806],\n",
              "       [1.65747502],\n",
              "       [0.71350665],\n",
              "       [0.56186902],\n",
              "       [1.08539217],\n",
              "       [0.28184845],\n",
              "       [1.60439396],\n",
              "       [0.14910129],\n",
              "       [1.97377387],\n",
              "       [1.54448954],\n",
              "       [0.39743136],\n",
              "       [0.01104423],\n",
              "       [1.63092286],\n",
              "       [1.41371469],\n",
              "       [1.45801434],\n",
              "       [1.54254069],\n",
              "       [0.1480893 ],\n",
              "       [0.71693146],\n",
              "       [0.23173812],\n",
              "       [1.72620685],\n",
              "       [1.24659625],\n",
              "       [0.66179605],\n",
              "       [0.1271167 ],\n",
              "       [0.62196464],\n",
              "       [0.65036664],\n",
              "       [1.45921236],\n",
              "       [1.27511494],\n",
              "       [1.77442549],\n",
              "       [0.94442985],\n",
              "       [0.23918849],\n",
              "       [1.42648957],\n",
              "       [1.5215701 ],\n",
              "       [1.1225544 ],\n",
              "       [1.54193436],\n",
              "       [0.98759119],\n",
              "       [1.04546566],\n",
              "       [0.85508204],\n",
              "       [0.05083825],\n",
              "       [0.21578285]])"
            ]
          },
          "metadata": {},
          "execution_count": 75
        }
      ]
    },
    {
      "cell_type": "code",
      "source": [
        "y"
      ],
      "metadata": {
        "colab": {
          "base_uri": "https://localhost:8080/"
        },
        "id": "l6dxioHU-4ux",
        "outputId": "f7e3afb6-1501-455e-a18e-d6c17fb29c74"
      },
      "execution_count": null,
      "outputs": [
        {
          "output_type": "execute_result",
          "data": {
            "text/plain": [
              "array([[4.78050942],\n",
              "       [6.53783902],\n",
              "       [5.77834386],\n",
              "       [5.70588766],\n",
              "       [5.21960375],\n",
              "       [4.56128127],\n",
              "       [4.52655015],\n",
              "       [6.48790343],\n",
              "       [5.43102819],\n",
              "       [5.49312507],\n",
              "       [4.33092044],\n",
              "       [6.10104099],\n",
              "       [6.59458293],\n",
              "       [5.2327986 ],\n",
              "       [4.99705369],\n",
              "       [5.23826961],\n",
              "       [5.41215656],\n",
              "       [5.23608292],\n",
              "       [5.75644904],\n",
              "       [5.12180052],\n",
              "       [6.03114594],\n",
              "       [5.17507902],\n",
              "       [4.90229277],\n",
              "       [4.84277561],\n",
              "       [5.14007513],\n",
              "       [5.99745971],\n",
              "       [5.21736233],\n",
              "       [5.88919946],\n",
              "       [5.19178127],\n",
              "       [4.60364813],\n",
              "       [5.63250071],\n",
              "       [4.56315606],\n",
              "       [4.24996855],\n",
              "       [6.23538625],\n",
              "       [6.87417377],\n",
              "       [5.93999763],\n",
              "       [5.12801816],\n",
              "       [4.89836319],\n",
              "       [5.73209566],\n",
              "       [5.85208707],\n",
              "       [5.20652376],\n",
              "       [5.24213612],\n",
              "       [4.56602555],\n",
              "       [6.11951911],\n",
              "       [4.80240046],\n",
              "       [5.36193152],\n",
              "       [5.23298649],\n",
              "       [5.54281507],\n",
              "       [5.14489931],\n",
              "       [4.64835538],\n",
              "       [6.84743514],\n",
              "       [5.78982754],\n",
              "       [6.02389276],\n",
              "       [6.27910746],\n",
              "       [6.18145041],\n",
              "       [6.08580374],\n",
              "       [4.84912055],\n",
              "       [5.15358534],\n",
              "       [4.32809212],\n",
              "       [5.37887701],\n",
              "       [5.14513771],\n",
              "       [5.17500389],\n",
              "       [6.29100473],\n",
              "       [5.24928134],\n",
              "       [4.65215879],\n",
              "       [5.92069466],\n",
              "       [4.60262851],\n",
              "       [5.79091247],\n",
              "       [4.18987643],\n",
              "       [6.56466682],\n",
              "       [6.2220539 ],\n",
              "       [4.41401919],\n",
              "       [4.52313729],\n",
              "       [5.85741863],\n",
              "       [6.05888748],\n",
              "       [5.63238077],\n",
              "       [6.23347843],\n",
              "       [4.53482465],\n",
              "       [5.65366145],\n",
              "       [4.36925906],\n",
              "       [6.0672732 ],\n",
              "       [5.36006977],\n",
              "       [5.58648967],\n",
              "       [5.00445605],\n",
              "       [4.87990627],\n",
              "       [5.31035069],\n",
              "       [6.27643456],\n",
              "       [5.83031575],\n",
              "       [6.30407606],\n",
              "       [5.18628214],\n",
              "       [4.33229126],\n",
              "       [6.32370533],\n",
              "       [6.42198815],\n",
              "       [5.75565585],\n",
              "       [5.88096415],\n",
              "       [5.33680077],\n",
              "       [5.77142134],\n",
              "       [5.7521923 ],\n",
              "       [4.93792468],\n",
              "       [4.9956584 ]])"
            ]
          },
          "metadata": {},
          "execution_count": 70
        }
      ]
    },
    {
      "cell_type": "code",
      "source": [
        "plt.figure(figsize = (10, 6))\n",
        "plt.plot(X, y, 'b.')\n",
        "plt.xlabel('$x_1$')\n",
        "plt.ylabel('$y$', rotation = 0)\n",
        "plt.axis([0, 2, 0, 16])\n",
        "plt.grid()\n",
        "plt.show()"
      ],
      "metadata": {
        "colab": {
          "base_uri": "https://localhost:8080/",
          "height": 548
        },
        "id": "xW6ZvDYPBSH8",
        "outputId": "46d5a420-45de-4a85-f2c0-4abe777e0776"
      },
      "execution_count": null,
      "outputs": [
        {
          "output_type": "display_data",
          "data": {
            "text/plain": [
              "<Figure size 1000x600 with 1 Axes>"
            ],
            "image/png": "[encoded data removed]"
          },
          "metadata": {}
        }
      ]
    },
    {
      "cell_type": "code",
      "source": [
        "X_new = np.array([[0],[2]])\n",
        "X_new_b = add_dummy_feature(X_new)\n",
        "\n",
        "y_predict = X_new_b @ theta_best\n",
        "y_predict"
      ],
      "metadata": {
        "colab": {
          "base_uri": "https://localhost:8080/"
        },
        "id": "Ijh0c_niFR3M",
        "outputId": "85572574-81f5-4eac-d79e-f0172e516199"
      },
      "execution_count": null,
      "outputs": [
        {
          "output_type": "execute_result",
          "data": {
            "text/plain": [
              "array([[4.21509616],\n",
              "       [7.75532293]])"
            ]
          },
          "metadata": {},
          "execution_count": 109
        }
      ]
    },
    {
      "cell_type": "code",
      "source": [
        "plt.figure(figsize = [10, 7])\n",
        "plt.plot(X_new, y_predict, 'r', label = 'Predictions')\n",
        "plt.plot(X, y, 'b.')\n",
        "\n",
        "plt.xlabel('$x_1$')\n",
        "plt.ylabel('$y$', rotation = 0)\n",
        "plt.axis([0, 2, 0 ,15])\n",
        "plt.grid()\n",
        "plt.legend(loc = 'upper left')\n",
        "\n",
        "plt.show()"
      ],
      "metadata": {
        "colab": {
          "base_uri": "https://localhost:8080/",
          "height": 619
        },
        "id": "-TXYjkNzDRdy",
        "outputId": "ee2ceb01-45bc-481f-d265-97ec20b2b299"
      },
      "execution_count": null,
      "outputs": [
        {
          "output_type": "display_data",
          "data": {
            "text/plain": [
              "<Figure size 1000x700 with 1 Axes>"
            ],
            "image/png": "[encoded data removed]"
          },
          "metadata": {}
        }
      ]
    },
    {
      "cell_type": "code",
      "source": [
        "y = y.reshape(100, 1)     # X-i da ele"
      ],
      "metadata": {
        "id": "NmEk-ksiDsQf"
      },
      "execution_count": null,
      "outputs": []
    },
    {
      "cell_type": "code",
      "source": [
        "from sklearn.preprocessing import add_dummy_feature\n",
        "\n",
        "X_b = add_dummy_feature(X)            # wx + b de b olsun deye\n",
        "\n",
        "theta_best = np.linalg.inv(X_b.T @ X_b) @ X_b.T @ y       # X transpose times  X and then inverse it and dot product X transpose and y"
      ],
      "metadata": {
        "id": "_SbTTNELGebt"
      },
      "execution_count": null,
      "outputs": []
    },
    {
      "cell_type": "code",
      "source": [
        "theta_best"
      ],
      "metadata": {
        "colab": {
          "base_uri": "https://localhost:8080/"
        },
        "id": "Z3QKIPojCsVc",
        "outputId": "54ebb1b6-c4dd-4ef3-a04d-a856da606c17"
      },
      "execution_count": null,
      "outputs": [
        {
          "output_type": "execute_result",
          "data": {
            "text/plain": [
              "array([[4.21509616],\n",
              "       [1.77011339]])"
            ]
          },
          "metadata": {},
          "execution_count": 97
        }
      ]
    },
    {
      "cell_type": "markdown",
      "source": [
        "batch"
      ],
      "metadata": {
        "id": "OypVTU83F3DJ"
      }
    },
    {
      "cell_type": "code",
      "source": [
        "X_b[0]"
      ],
      "metadata": {
        "colab": {
          "base_uri": "https://localhost:8080/"
        },
        "id": "mdVDwcaTF41a",
        "outputId": "4837d179-da5e-46d5-8f20-a42843c92786"
      },
      "execution_count": null,
      "outputs": [
        {
          "output_type": "execute_result",
          "data": {
            "text/plain": [
              "array([1.        , 0.74908024])"
            ]
          },
          "metadata": {},
          "execution_count": 98
        }
      ]
    },
    {
      "cell_type": "code",
      "source": [
        "eta = 0.1\n",
        "n_epochs = 1000\n",
        "m = len(X_b)\n",
        "\n",
        "np.random.seed(42)\n",
        "theta = np.random.randn(2,1)\n",
        "\n",
        "for epoch in range(n_epochs):\n",
        "  gradient = 1 / m * 2 * X_b.T @ (X_b @ theta - y)\n",
        "  theta = theta - eta *gradient"
      ],
      "metadata": {
        "id": "osLCSHX2EJX2"
      },
      "execution_count": null,
      "outputs": []
    },
    {
      "cell_type": "code",
      "source": [
        "theta"
      ],
      "metadata": {
        "colab": {
          "base_uri": "https://localhost:8080/"
        },
        "id": "zcfbaQ8tEiPx",
        "outputId": "69fb1783-53e2-4ad1-9b29-857db2792fc9"
      },
      "execution_count": null,
      "outputs": [
        {
          "output_type": "execute_result",
          "data": {
            "text/plain": [
              "array([[4.21509616],\n",
              "       [1.77011339]])"
            ]
          },
          "metadata": {},
          "execution_count": 100
        }
      ]
    },
    {
      "cell_type": "code",
      "source": [
        "from sklearn.linear_model import SGDRegressor\n",
        "\n",
        "sgd_reg = SGDRegressor(max_iter = 1000, tol = 1e-5, penalty = None, eta0 = 0.01,\n",
        "                       n_iter_no_change = 100, random_state=42)\n",
        "sgd_reg.fit(X, y.ravel())       #ravel reduces dimension to 1D"
      ],
      "metadata": {
        "colab": {
          "base_uri": "https://localhost:8080/",
          "height": 80
        },
        "id": "pITOVV40E3OE",
        "outputId": "efbab3c5-642d-436d-b773-c1e797f60f74"
      },
      "execution_count": null,
      "outputs": [
        {
          "output_type": "execute_result",
          "data": {
            "text/plain": [
              "SGDRegressor(n_iter_no_change=100, penalty=None, random_state=42, tol=1e-05)"
            ],
            "text/html": [
              "<style>#sk-container-id-3 {\n",
              "  /* Definition of color scheme common for light and dark mode */\n",
              "  --sklearn-color-text: #000;\n",
              "  --sklearn-color-text-muted: #666;\n",
              "  --sklearn-color-line: gray;\n",
              "  /* Definition of color scheme for unfitted estimators */\n",
              "  --sklearn-color-unfitted-level-0: #fff5e6;\n",
              "  --sklearn-color-unfitted-level-1: #f6e4d2;\n",
              "  --sklearn-color-unfitted-level-2: #ffe0b3;\n",
              "  --sklearn-color-unfitted-level-3: chocolate;\n",
              "  /* Definition of color scheme for fitted estimators */\n",
              "  --sklearn-color-fitted-level-0: #f0f8ff;\n",
              "  --sklearn-color-fitted-level-1: #d4ebff;\n",
              "  --sklearn-color-fitted-level-2: #b3dbfd;\n",
              "  --sklearn-color-fitted-level-3: cornflowerblue;\n",
              "\n",
              "  /* Specific color for light theme */\n",
              "  --sklearn-color-text-on-default-background: var(--sg-text-color, var(--theme-code-foreground, var(--jp-content-font-color1, black)));\n",
              "  --sklearn-color-background: var(--sg-background-color, var(--theme-background, var(--jp-layout-color0, white)));\n",
              "  --sklearn-color-border-box: var(--sg-text-color, var(--theme-code-foreground, var(--jp-content-font-color1, black)));\n",
              "  --sklearn-color-icon: #696969;\n",
              "\n",
              "  @media (prefers-color-scheme: dark) {\n",
              "    /* Redefinition of color scheme for dark theme */\n",
              "    --sklearn-color-text-on-default-background: var(--sg-text-color, var(--theme-code-foreground, var(--jp-content-font-color1, white)));\n",
              "    --sklearn-color-background: var(--sg-background-color, var(--theme-background, var(--jp-layout-color0, #111)));\n",
              "    --sklearn-color-border-box: var(--sg-text-color, var(--theme-code-foreground, var(--jp-content-font-color1, white)));\n",
              "    --sklearn-color-icon: #878787;\n",
              "  }\n",
              "}\n",
              "\n",
              "#sk-container-id-3 {\n",
              "  color: var(--sklearn-color-text);\n",
              "}\n",
              "\n",
              "#sk-container-id-3 pre {\n",
              "  padding: 0;\n",
              "}\n",
              "\n",
              "#sk-container-id-3 input.sk-hidden--visually {\n",
              "  border: 0;\n",
              "  clip: rect(1px 1px 1px 1px);\n",
              "  clip: rect(1px, 1px, 1px, 1px);\n",
              "  height: 1px;\n",
              "  margin: -1px;\n",
              "  overflow: hidden;\n",
              "  padding: 0;\n",
              "  position: absolute;\n",
              "  width: 1px;\n",
              "}\n",
              "\n",
              "#sk-container-id-3 div.sk-dashed-wrapped {\n",
              "  border: 1px dashed var(--sklearn-color-line);\n",
              "  margin: 0 0.4em 0.5em 0.4em;\n",
              "  box-sizing: border-box;\n",
              "  padding-bottom: 0.4em;\n",
              "  background-color: var(--sklearn-color-background);\n",
              "}\n",
              "\n",
              "#sk-container-id-3 div.sk-container {\n",
              "  /* jupyter's `normalize.less` sets `[hidden] { display: none; }`\n",
              "     but bootstrap.min.css set `[hidden] { display: none !important; }`\n",
              "     so we also need the `!important` here to be able to override the\n",
              "     default hidden behavior on the sphinx rendered scikit-learn.org.\n",
              "     See: https://github.com/scikit-learn/scikit-learn/issues/21755 */\n",
              "  display: inline-block !important;\n",
              "  position: relative;\n",
              "}\n",
              "\n",
              "#sk-container-id-3 div.sk-text-repr-fallback {\n",
              "  display: none;\n",
              "}\n",
              "\n",
              "div.sk-parallel-item,\n",
              "div.sk-serial,\n",
              "div.sk-item {\n",
              "  /* draw centered vertical line to link estimators */\n",
              "  background-image: linear-gradient(var(--sklearn-color-text-on-default-background), var(--sklearn-color-text-on-default-background));\n",
              "  background-size: 2px 100%;\n",
              "  background-repeat: no-repeat;\n",
              "  background-position: center center;\n",
              "}\n",
              "\n",
              "/* Parallel-specific style estimator block */\n",
              "\n",
              "#sk-container-id-3 div.sk-parallel-item::after {\n",
              "  content: \"\";\n",
              "  width: 100%;\n",
              "  border-bottom: 2px solid var(--sklearn-color-text-on-default-background);\n",
              "  flex-grow: 1;\n",
              "}\n",
              "\n",
              "#sk-container-id-3 div.sk-parallel {\n",
              "  display: flex;\n",
              "  align-items: stretch;\n",
              "  justify-content: center;\n",
              "  background-color: var(--sklearn-color-background);\n",
              "  position: relative;\n",
              "}\n",
              "\n",
              "#sk-container-id-3 div.sk-parallel-item {\n",
              "  display: flex;\n",
              "  flex-direction: column;\n",
              "}\n",
              "\n",
              "#sk-container-id-3 div.sk-parallel-item:first-child::after {\n",
              "  align-self: flex-end;\n",
              "  width: 50%;\n",
              "}\n",
              "\n",
              "#sk-container-id-3 div.sk-parallel-item:last-child::after {\n",
              "  align-self: flex-start;\n",
              "  width: 50%;\n",
              "}\n",
              "\n",
              "#sk-container-id-3 div.sk-parallel-item:only-child::after {\n",
              "  width: 0;\n",
              "}\n",
              "\n",
              "/* Serial-specific style estimator block */\n",
              "\n",
              "#sk-container-id-3 div.sk-serial {\n",
              "  display: flex;\n",
              "  flex-direction: column;\n",
              "  align-items: center;\n",
              "  background-color: var(--sklearn-color-background);\n",
              "  padding-right: 1em;\n",
              "  padding-left: 1em;\n",
              "}\n",
              "\n",
              "\n",
              "/* Toggleable style: style used for estimator/Pipeline/ColumnTransformer box that is\n",
              "clickable and can be expanded/collapsed.\n",
              "- Pipeline and ColumnTransformer use this feature and define the default style\n",
              "- Estimators will overwrite some part of the style using the `sk-estimator` class\n",
              "*/\n",
              "\n",
              "/* Pipeline and ColumnTransformer style (default) */\n",
              "\n",
              "#sk-container-id-3 div.sk-toggleable {\n",
              "  /* Default theme specific background. It is overwritten whether we have a\n",
              "  specific estimator or a Pipeline/ColumnTransformer */\n",
              "  background-color: var(--sklearn-color-background);\n",
              "}\n",
              "\n",
              "/* Toggleable label */\n",
              "#sk-container-id-3 label.sk-toggleable__label {\n",
              "  cursor: pointer;\n",
              "  display: flex;\n",
              "  width: 100%;\n",
              "  margin-bottom: 0;\n",
              "  padding: 0.5em;\n",
              "  box-sizing: border-box;\n",
              "  text-align: center;\n",
              "  align-items: start;\n",
              "  justify-content: space-between;\n",
              "  gap: 0.5em;\n",
              "}\n",
              "\n",
              "#sk-container-id-3 label.sk-toggleable__label .caption {\n",
              "  font-size: 0.6rem;\n",
              "  font-weight: lighter;\n",
              "  color: var(--sklearn-color-text-muted);\n",
              "}\n",
              "\n",
              "#sk-container-id-3 label.sk-toggleable__label-arrow:before {\n",
              "  /* Arrow on the left of the label */\n",
              "  content: \"▸\";\n",
              "  float: left;\n",
              "  margin-right: 0.25em;\n",
              "  color: var(--sklearn-color-icon);\n",
              "}\n",
              "\n",
              "#sk-container-id-3 label.sk-toggleable__label-arrow:hover:before {\n",
              "  color: var(--sklearn-color-text);\n",
              "}\n",
              "\n",
              "/* Toggleable content - dropdown */\n",
              "\n",
              "#sk-container-id-3 div.sk-toggleable__content {\n",
              "  max-height: 0;\n",
              "  max-width: 0;\n",
              "  overflow: hidden;\n",
              "  text-align: left;\n",
              "  /* unfitted */\n",
              "  background-color: var(--sklearn-color-unfitted-level-0);\n",
              "}\n",
              "\n",
              "#sk-container-id-3 div.sk-toggleable__content.fitted {\n",
              "  /* fitted */\n",
              "  background-color: var(--sklearn-color-fitted-level-0);\n",
              "}\n",
              "\n",
              "#sk-container-id-3 div.sk-toggleable__content pre {\n",
              "  margin: 0.2em;\n",
              "  border-radius: 0.25em;\n",
              "  color: var(--sklearn-color-text);\n",
              "  /* unfitted */\n",
              "  background-color: var(--sklearn-color-unfitted-level-0);\n",
              "}\n",
              "\n",
              "#sk-container-id-3 div.sk-toggleable__content.fitted pre {\n",
              "  /* unfitted */\n",
              "  background-color: var(--sklearn-color-fitted-level-0);\n",
              "}\n",
              "\n",
              "#sk-container-id-3 input.sk-toggleable__control:checked~div.sk-toggleable__content {\n",
              "  /* Expand drop-down */\n",
              "  max-height: 200px;\n",
              "  max-width: 100%;\n",
              "  overflow: auto;\n",
              "}\n",
              "\n",
              "#sk-container-id-3 input.sk-toggleable__control:checked~label.sk-toggleable__label-arrow:before {\n",
              "  content: \"▾\";\n",
              "}\n",
              "\n",
              "/* Pipeline/ColumnTransformer-specific style */\n",
              "\n",
              "#sk-container-id-3 div.sk-label input.sk-toggleable__control:checked~label.sk-toggleable__label {\n",
              "  color: var(--sklearn-color-text);\n",
              "  background-color: var(--sklearn-color-unfitted-level-2);\n",
              "}\n",
              "\n",
              "#sk-container-id-3 div.sk-label.fitted input.sk-toggleable__control:checked~label.sk-toggleable__label {\n",
              "  background-color: var(--sklearn-color-fitted-level-2);\n",
              "}\n",
              "\n",
              "/* Estimator-specific style */\n",
              "\n",
              "/* Colorize estimator box */\n",
              "#sk-container-id-3 div.sk-estimator input.sk-toggleable__control:checked~label.sk-toggleable__label {\n",
              "  /* unfitted */\n",
              "  background-color: var(--sklearn-color-unfitted-level-2);\n",
              "}\n",
              "\n",
              "#sk-container-id-3 div.sk-estimator.fitted input.sk-toggleable__control:checked~label.sk-toggleable__label {\n",
              "  /* fitted */\n",
              "  background-color: var(--sklearn-color-fitted-level-2);\n",
              "}\n",
              "\n",
              "#sk-container-id-3 div.sk-label label.sk-toggleable__label,\n",
              "#sk-container-id-3 div.sk-label label {\n",
              "  /* The background is the default theme color */\n",
              "  color: var(--sklearn-color-text-on-default-background);\n",
              "}\n",
              "\n",
              "/* On hover, darken the color of the background */\n",
              "#sk-container-id-3 div.sk-label:hover label.sk-toggleable__label {\n",
              "  color: var(--sklearn-color-text);\n",
              "  background-color: var(--sklearn-color-unfitted-level-2);\n",
              "}\n",
              "\n",
              "/* Label box, darken color on hover, fitted */\n",
              "#sk-container-id-3 div.sk-label.fitted:hover label.sk-toggleable__label.fitted {\n",
              "  color: var(--sklearn-color-text);\n",
              "  background-color: var(--sklearn-color-fitted-level-2);\n",
              "}\n",
              "\n",
              "/* Estimator label */\n",
              "\n",
              "#sk-container-id-3 div.sk-label label {\n",
              "  font-family: monospace;\n",
              "  font-weight: bold;\n",
              "  display: inline-block;\n",
              "  line-height: 1.2em;\n",
              "}\n",
              "\n",
              "#sk-container-id-3 div.sk-label-container {\n",
              "  text-align: center;\n",
              "}\n",
              "\n",
              "/* Estimator-specific */\n",
              "#sk-container-id-3 div.sk-estimator {\n",
              "  font-family: monospace;\n",
              "  border: 1px dotted var(--sklearn-color-border-box);\n",
              "  border-radius: 0.25em;\n",
              "  box-sizing: border-box;\n",
              "  margin-bottom: 0.5em;\n",
              "  /* unfitted */\n",
              "  background-color: var(--sklearn-color-unfitted-level-0);\n",
              "}\n",
              "\n",
              "#sk-container-id-3 div.sk-estimator.fitted {\n",
              "  /* fitted */\n",
              "  background-color: var(--sklearn-color-fitted-level-0);\n",
              "}\n",
              "\n",
              "/* on hover */\n",
              "#sk-container-id-3 div.sk-estimator:hover {\n",
              "  /* unfitted */\n",
              "  background-color: var(--sklearn-color-unfitted-level-2);\n",
              "}\n",
              "\n",
              "#sk-container-id-3 div.sk-estimator.fitted:hover {\n",
              "  /* fitted */\n",
              "  background-color: var(--sklearn-color-fitted-level-2);\n",
              "}\n",
              "\n",
              "/* Specification for estimator info (e.g. \"i\" and \"?\") */\n",
              "\n",
              "/* Common style for \"i\" and \"?\" */\n",
              "\n",
              ".sk-estimator-doc-link,\n",
              "a:link.sk-estimator-doc-link,\n",
              "a:visited.sk-estimator-doc-link {\n",
              "  float: right;\n",
              "  font-size: smaller;\n",
              "  line-height: 1em;\n",
              "  font-family: monospace;\n",
              "  background-color: var(--sklearn-color-background);\n",
              "  border-radius: 1em;\n",
              "  height: 1em;\n",
              "  width: 1em;\n",
              "  text-decoration: none !important;\n",
              "  margin-left: 0.5em;\n",
              "  text-align: center;\n",
              "  /* unfitted */\n",
              "  border: var(--sklearn-color-unfitted-level-1) 1pt solid;\n",
              "  color: var(--sklearn-color-unfitted-level-1);\n",
              "}\n",
              "\n",
              ".sk-estimator-doc-link.fitted,\n",
              "a:link.sk-estimator-doc-link.fitted,\n",
              "a:visited.sk-estimator-doc-link.fitted {\n",
              "  /* fitted */\n",
              "  border: var(--sklearn-color-fitted-level-1) 1pt solid;\n",
              "  color: var(--sklearn-color-fitted-level-1);\n",
              "}\n",
              "\n",
              "/* On hover */\n",
              "div.sk-estimator:hover .sk-estimator-doc-link:hover,\n",
              ".sk-estimator-doc-link:hover,\n",
              "div.sk-label-container:hover .sk-estimator-doc-link:hover,\n",
              ".sk-estimator-doc-link:hover {\n",
              "  /* unfitted */\n",
              "  background-color: var(--sklearn-color-unfitted-level-3);\n",
              "  color: var(--sklearn-color-background);\n",
              "  text-decoration: none;\n",
              "}\n",
              "\n",
              "div.sk-estimator.fitted:hover .sk-estimator-doc-link.fitted:hover,\n",
              ".sk-estimator-doc-link.fitted:hover,\n",
              "div.sk-label-container:hover .sk-estimator-doc-link.fitted:hover,\n",
              ".sk-estimator-doc-link.fitted:hover {\n",
              "  /* fitted */\n",
              "  background-color: var(--sklearn-color-fitted-level-3);\n",
              "  color: var(--sklearn-color-background);\n",
              "  text-decoration: none;\n",
              "}\n",
              "\n",
              "/* Span, style for the box shown on hovering the info icon */\n",
              ".sk-estimator-doc-link span {\n",
              "  display: none;\n",
              "  z-index: 9999;\n",
              "  position: relative;\n",
              "  font-weight: normal;\n",
              "  right: .2ex;\n",
              "  padding: .5ex;\n",
              "  margin: .5ex;\n",
              "  width: min-content;\n",
              "  min-width: 20ex;\n",
              "  max-width: 50ex;\n",
              "  color: var(--sklearn-color-text);\n",
              "  box-shadow: 2pt 2pt 4pt #999;\n",
              "  /* unfitted */\n",
              "  background: var(--sklearn-color-unfitted-level-0);\n",
              "  border: .5pt solid var(--sklearn-color-unfitted-level-3);\n",
              "}\n",
              "\n",
              ".sk-estimator-doc-link.fitted span {\n",
              "  /* fitted */\n",
              "  background: var(--sklearn-color-fitted-level-0);\n",
              "  border: var(--sklearn-color-fitted-level-3);\n",
              "}\n",
              "\n",
              ".sk-estimator-doc-link:hover span {\n",
              "  display: block;\n",
              "}\n",
              "\n",
              "/* \"?\"-specific style due to the `<a>` HTML tag */\n",
              "\n",
              "#sk-container-id-3 a.estimator_doc_link {\n",
              "  float: right;\n",
              "  font-size: 1rem;\n",
              "  line-height: 1em;\n",
              "  font-family: monospace;\n",
              "  background-color: var(--sklearn-color-background);\n",
              "  border-radius: 1rem;\n",
              "  height: 1rem;\n",
              "  width: 1rem;\n",
              "  text-decoration: none;\n",
              "  /* unfitted */\n",
              "  color: var(--sklearn-color-unfitted-level-1);\n",
              "  border: var(--sklearn-color-unfitted-level-1) 1pt solid;\n",
              "}\n",
              "\n",
              "#sk-container-id-3 a.estimator_doc_link.fitted {\n",
              "  /* fitted */\n",
              "  border: var(--sklearn-color-fitted-level-1) 1pt solid;\n",
              "  color: var(--sklearn-color-fitted-level-1);\n",
              "}\n",
              "\n",
              "/* On hover */\n",
              "#sk-container-id-3 a.estimator_doc_link:hover {\n",
              "  /* unfitted */\n",
              "  background-color: var(--sklearn-color-unfitted-level-3);\n",
              "  color: var(--sklearn-color-background);\n",
              "  text-decoration: none;\n",
              "}\n",
              "\n",
              "#sk-container-id-3 a.estimator_doc_link.fitted:hover {\n",
              "  /* fitted */\n",
              "  background-color: var(--sklearn-color-fitted-level-3);\n",
              "}\n",
              "</style><div id=\"sk-container-id-3\" class=\"sk-top-container\"><div class=\"sk-text-repr-fallback\"><pre>SGDRegressor(n_iter_no_change=100, penalty=None, random_state=42, tol=1e-05)</pre><b>In a Jupyter environment, please rerun this cell to show the HTML representation or trust the notebook. <br />On GitHub, the HTML representation is unable to render, please try loading this page with nbviewer.org.</b></div><div class=\"sk-container\" hidden><div class=\"sk-item\"><div class=\"sk-estimator fitted sk-toggleable\"><input class=\"sk-toggleable__control sk-hidden--visually\" id=\"sk-estimator-id-3\" type=\"checkbox\" checked><label for=\"sk-estimator-id-3\" class=\"sk-toggleable__label fitted sk-toggleable__label-arrow\"><div><div>SGDRegressor</div></div><div><a class=\"sk-estimator-doc-link fitted\" rel=\"noreferrer\" target=\"_blank\" href=\"https://scikit-learn.org/1.6/modules/generated/sklearn.linear_model.SGDRegressor.html\">?<span>Documentation for SGDRegressor</span></a><span class=\"sk-estimator-doc-link fitted\">i<span>Fitted</span></span></div></label><div class=\"sk-toggleable__content fitted\"><pre>SGDRegressor(n_iter_no_change=100, penalty=None, random_state=42, tol=1e-05)</pre></div> </div></div></div></div>"
            ]
          },
          "metadata": {},
          "execution_count": 101
        }
      ]
    },
    {
      "cell_type": "code",
      "source": [
        "sgd_reg.intercept_, sgd_reg.coef_"
      ],
      "metadata": {
        "colab": {
          "base_uri": "https://localhost:8080/"
        },
        "id": "wWpa2Aw8E6RX",
        "outputId": "93126de6-2b77-489e-ee3e-3f5075f87671"
      },
      "execution_count": null,
      "outputs": [
        {
          "output_type": "execute_result",
          "data": {
            "text/plain": [
              "(array([4.21154695]), array([1.77379754]))"
            ]
          },
          "metadata": {},
          "execution_count": 102
        }
      ]
    },
    {
      "cell_type": "markdown",
      "source": [
        "stoc"
      ],
      "metadata": {
        "id": "iWYItYu5GKlY"
      }
    },
    {
      "cell_type": "code",
      "source": [],
      "metadata": {
        "id": "2PkpIl4hJM8s"
      },
      "execution_count": null,
      "outputs": []
    },
    {
      "cell_type": "code",
      "source": [
        "np.random.seed(42)\n",
        "\n",
        "eta = 0.1\n",
        "m = len(X_b)\n",
        "theta = np.random.randn(2, 1)\n",
        "\n",
        "for epoch in range(n_epochs):\n",
        "  for i in range(m):\n",
        "    random_index = np.random.randint(m)\n",
        "    xi = X_b[random_index : random_index + 1]\n",
        "    yi = y[random_index : random_index + 1]\n",
        "    gradients = 2 * xi.T @(xi @ theta - yi)\n",
        "    theta = theta - eta * gradients"
      ],
      "metadata": {
        "id": "cCdKs7QZE80S"
      },
      "execution_count": null,
      "outputs": []
    },
    {
      "cell_type": "code",
      "source": [
        "theta"
      ],
      "metadata": {
        "colab": {
          "base_uri": "https://localhost:8080/"
        },
        "id": "M597jXXxGtf_",
        "outputId": "9e83bc55-abab-4f47-8fa0-635704e7a677"
      },
      "execution_count": null,
      "outputs": [
        {
          "output_type": "execute_result",
          "data": {
            "text/plain": [
              "array([[4.17686315],\n",
              "       [1.85986577]])"
            ]
          },
          "metadata": {},
          "execution_count": 106
        }
      ]
    },
    {
      "cell_type": "markdown",
      "source": [
        "mini batch"
      ],
      "metadata": {
        "id": "3MgH2Q2yLyKc"
      }
    },
    {
      "cell_type": "code",
      "source": [
        "from math import ceil\n",
        "\n",
        "n_epochs = 50\n",
        "eta = 0.1\n",
        "m = len(X_b)\n",
        "minibatch_size = 20\n",
        "n_bathces_per_epoch = ceil(m / minibatch_size)\n",
        "\n",
        "np.random.seed(42)\n",
        "theta = np.random.randn(2, 1)\n",
        "\n",
        "for epoch in range(n_epochs):\n",
        "  shuffled_indices = np.random.permutation(m)\n",
        "  X_b_shuffled = X_b[shuffled_indices]\n",
        "  y_shuffled = y[shuffled_indices]\n",
        "  for iteration in range(0, n_bathces_per_epoch):\n",
        "    idx = iteration * minibatch_size\n",
        "    xi = X_b_shuffled[idx : idx + minibatch_size]\n",
        "    yi = y_shuffled[idx : idx + minibatch_size]\n",
        "    gradients = 2 / minibatch_size * xi.T @(xi @theta - yi)\n",
        "    theta = theta - eta * gradients"
      ],
      "metadata": {
        "id": "hIUzMWSIJGui"
      },
      "execution_count": null,
      "outputs": []
    },
    {
      "cell_type": "code",
      "source": [
        "theta"
      ],
      "metadata": {
        "colab": {
          "base_uri": "https://localhost:8080/"
        },
        "id": "uFSs6Ci6Lr7o",
        "outputId": "5b8a8856-6176-42a5-a05a-3f43fb19ec18"
      },
      "execution_count": null,
      "outputs": [
        {
          "output_type": "execute_result",
          "data": {
            "text/plain": [
              "array([[4.22015491],\n",
              "       [1.77052006]])"
            ]
          },
          "metadata": {},
          "execution_count": 108
        }
      ]
    },
    {
      "cell_type": "code",
      "source": [],
      "metadata": {
        "id": "NSDXlyePLtyE"
      },
      "execution_count": null,
      "outputs": []
    }
  ]
}